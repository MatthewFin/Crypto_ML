{
 "cells": [
  {
   "cell_type": "code",
   "execution_count": 1,
   "metadata": {
    "collapsed": true
   },
   "outputs": [],
   "source": [
    "timespan = '66months'\n",
    "rollingAverage = '1hour'\n",
    "start = '2012-01-00'\n",
    "sampled = 'false'\n",
    "\n",
    "global totalled_df\n",
    "global url\n",
    "url = 'https://api.blockchain.info/charts/'"
   ]
  },
  {
   "cell_type": "code",
   "execution_count": 2,
   "metadata": {
    "collapsed": true
   },
   "outputs": [],
   "source": [
    "def create_df(url, chartName):\n",
    "    url += chartName\n",
    "    params = dict(\n",
    "        timespan = timespan,\n",
    "        rollingAverage = rollingAverage,\n",
    "        start = start, \n",
    "        sampled = sampled,\n",
    "    )\n",
    "    resp = requests.get(url=url, params=params)\n",
    "    data = json.loads(resp.text)\n",
    "#     print(json.dumps(data, indent=4, sort_keys=True))\n",
    "    data = data['values']\n",
    "    df = pd.DataFrame(data)\n",
    "    df.set_index('x', inplace=True)\n",
    "    df.columns =[chartName]\n",
    "    return df"
   ]
  },
  {
   "cell_type": "code",
   "execution_count": 3,
   "metadata": {
    "collapsed": true
   },
   "outputs": [],
   "source": [
    "def concat_df(all_df, new_df):\n",
    "    all_df = pd.concat([all_df, new_df], axis=1, join_axes=[all_df.index])\n",
    "#     totalled_df.T.drop_duplicates().T    \n",
    "    all_df = all_df.loc[:,~all_df.columns.duplicated()]\n",
    "    return all_df"
   ]
  },
  {
   "cell_type": "markdown",
   "metadata": {},
   "source": [
    "***BLOCK DETAILS***"
   ]
  },
  {
   "cell_type": "code",
   "execution_count": 4,
   "metadata": {
    "collapsed": true
   },
   "outputs": [],
   "source": [
    "import json, requests\n",
    "import pandas as pd\n",
    "\n",
    "df = create_df(url, 'avg-block-size')\n",
    "\n",
    "totalled_df = df"
   ]
  },
  {
   "cell_type": "code",
   "execution_count": 5,
   "metadata": {
    "collapsed": true
   },
   "outputs": [],
   "source": [
    "df = create_df(url, 'n-transactions-per-block')\n",
    "\n",
    "totalled_df = concat_df(totalled_df, df)"
   ]
  },
  {
   "cell_type": "code",
   "execution_count": 6,
   "metadata": {
    "collapsed": true
   },
   "outputs": [],
   "source": [
    "df = create_df(url, 'median-confirmation-time')\n",
    "\n",
    "totalled_df = concat_df(totalled_df, df)"
   ]
  },
  {
   "cell_type": "markdown",
   "metadata": {},
   "source": [
    "***MINING INFORMATION***"
   ]
  },
  {
   "cell_type": "code",
   "execution_count": 7,
   "metadata": {
    "collapsed": true
   },
   "outputs": [],
   "source": [
    "df = create_df(url, 'hash-rate')\n",
    "\n",
    "totalled_df = concat_df(totalled_df, df)"
   ]
  },
  {
   "cell_type": "code",
   "execution_count": 8,
   "metadata": {
    "collapsed": true
   },
   "outputs": [],
   "source": [
    "# miners revenue ((number of BTC mined/day * market price) + transaction fees)\n",
    "df = create_df(url, 'miners-revenue') # check that this is the above\n",
    "\n",
    "totalled_df = concat_df(totalled_df, df)"
   ]
  },
  {
   "cell_type": "code",
   "execution_count": 9,
   "metadata": {
    "collapsed": true
   },
   "outputs": [],
   "source": [
    "df = create_df(url, 'transaction-fees-usd')\n",
    "\n",
    "totalled_df = concat_df(totalled_df, df)"
   ]
  },
  {
   "cell_type": "code",
   "execution_count": 10,
   "metadata": {
    "collapsed": true
   },
   "outputs": [],
   "source": [
    "df = create_df(url, 'cost-per-transaction-percent')\n",
    "\n",
    "totalled_df = concat_df(totalled_df, df)"
   ]
  },
  {
   "cell_type": "code",
   "execution_count": 11,
   "metadata": {
    "collapsed": true
   },
   "outputs": [],
   "source": [
    "# cost per transaction percent (miner revenue divivded by the number of transactions)\n",
    "df = create_df(url, 'cost-per-transaction')\n",
    "\n",
    "totalled_df = concat_df(totalled_df, df)"
   ]
  },
  {
   "cell_type": "markdown",
   "metadata": {},
   "source": [
    "***NETWORK ACTIVITY***"
   ]
  },
  {
   "cell_type": "code",
   "execution_count": 12,
   "metadata": {
    "collapsed": true
   },
   "outputs": [],
   "source": [
    "df = create_df(url, 'n-unique-addresses')\n",
    "\n",
    "totalled_df = concat_df(totalled_df, df)"
   ]
  },
  {
   "cell_type": "code",
   "execution_count": 13,
   "metadata": {
    "collapsed": true
   },
   "outputs": [],
   "source": [
    "df = create_df(url, 'n-transactions')\n",
    "\n",
    "totalled_df = concat_df(totalled_df, df)"
   ]
  },
  {
   "cell_type": "code",
   "execution_count": 14,
   "metadata": {
    "collapsed": true
   },
   "outputs": [],
   "source": [
    "df = create_df(url, 'transactions-per-second')\n",
    "\n",
    "totalled_df = concat_df(totalled_df, df)"
   ]
  },
  {
   "cell_type": "code",
   "execution_count": 15,
   "metadata": {
    "collapsed": true
   },
   "outputs": [],
   "source": [
    "df = create_df(url, 'mempool-count')\n",
    "\n",
    "totalled_df = concat_df(totalled_df, df)"
   ]
  },
  {
   "cell_type": "code",
   "execution_count": 16,
   "metadata": {
    "collapsed": true
   },
   "outputs": [],
   "source": [
    "df = create_df(url, 'mempool-growth')\n",
    "\n",
    "totalled_df = concat_df(totalled_df, df)"
   ]
  },
  {
   "cell_type": "code",
   "execution_count": 17,
   "metadata": {
    "collapsed": true
   },
   "outputs": [],
   "source": [
    "df = create_df(url, 'mempool-size')\n",
    "\n",
    "totalled_df = concat_df(totalled_df, df)"
   ]
  },
  {
   "cell_type": "code",
   "execution_count": 18,
   "metadata": {
    "collapsed": true
   },
   "outputs": [],
   "source": [
    "df = create_df(url, 'utxo-count')\n",
    "\n",
    "totalled_df = concat_df(totalled_df, df)"
   ]
  },
  {
   "cell_type": "code",
   "execution_count": 19,
   "metadata": {
    "collapsed": true
   },
   "outputs": [],
   "source": [
    "df = create_df(url, 'n-transactions-excluding-popular')\n",
    "\n",
    "totalled_df = concat_df(totalled_df, df)"
   ]
  },
  {
   "cell_type": "code",
   "execution_count": 20,
   "metadata": {
    "collapsed": true
   },
   "outputs": [],
   "source": [
    "df = create_df(url, 'output-volume')\n",
    "\n",
    "totalled_df = concat_df(totalled_df, df)"
   ]
  },
  {
   "cell_type": "code",
   "execution_count": 21,
   "metadata": {
    "collapsed": true
   },
   "outputs": [],
   "source": [
    "# Number of Transactions Excluding Popular Addresses"
   ]
  },
  {
   "cell_type": "code",
   "execution_count": 22,
   "metadata": {
    "collapsed": true
   },
   "outputs": [],
   "source": [
    "df = create_df(url, 'estimated-transaction-volume-usd')\n",
    "\n",
    "totalled_df = concat_df(totalled_df, df)"
   ]
  },
  {
   "cell_type": "markdown",
   "metadata": {},
   "source": [
    "***CURRENCY STATISTICS***"
   ]
  },
  {
   "cell_type": "code",
   "execution_count": 23,
   "metadata": {
    "collapsed": true
   },
   "outputs": [],
   "source": [
    "df = create_df(url, 'market-cap')\n",
    "\n",
    "totalled_df = concat_df(totalled_df, df)"
   ]
  },
  {
   "cell_type": "code",
   "execution_count": 24,
   "metadata": {
    "collapsed": true
   },
   "outputs": [],
   "source": [
    "df = create_df(url, 'trade-volume')\n",
    "\n",
    "totalled_df = concat_df(totalled_df, df)"
   ]
  },
  {
   "cell_type": "code",
   "execution_count": 25,
   "metadata": {
    "collapsed": true
   },
   "outputs": [],
   "source": [
    "df = create_df(url, 'market-price')\n",
    "\n",
    "totalled_df = concat_df(totalled_df, df)"
   ]
  },
  {
   "cell_type": "code",
   "execution_count": 48,
   "metadata": {},
   "outputs": [
    {
     "data": {
      "text/html": [
       "<div>\n",
       "<style>\n",
       "    .dataframe thead tr:only-child th {\n",
       "        text-align: right;\n",
       "    }\n",
       "\n",
       "    .dataframe thead th {\n",
       "        text-align: left;\n",
       "    }\n",
       "\n",
       "    .dataframe tbody tr th {\n",
       "        vertical-align: top;\n",
       "    }\n",
       "</style>\n",
       "<table border=\"1\" class=\"dataframe\">\n",
       "  <thead>\n",
       "    <tr style=\"text-align: right;\">\n",
       "      <th></th>\n",
       "      <th>avg-block-size</th>\n",
       "      <th>n-transactions-per-block</th>\n",
       "      <th>median-confirmation-time</th>\n",
       "      <th>hash-rate</th>\n",
       "      <th>miners-revenue</th>\n",
       "      <th>transaction-fees-usd</th>\n",
       "      <th>cost-per-transaction-percent</th>\n",
       "      <th>cost-per-transaction</th>\n",
       "      <th>n-unique-addresses</th>\n",
       "      <th>n-transactions</th>\n",
       "      <th>...</th>\n",
       "      <th>mempool-count</th>\n",
       "      <th>mempool-growth</th>\n",
       "      <th>mempool-size</th>\n",
       "      <th>utxo-count</th>\n",
       "      <th>n-transactions-excluding-popular</th>\n",
       "      <th>output-volume</th>\n",
       "      <th>estimated-transaction-volume-usd</th>\n",
       "      <th>market-cap</th>\n",
       "      <th>trade-volume</th>\n",
       "      <th>market-price</th>\n",
       "    </tr>\n",
       "    <tr>\n",
       "      <th>x</th>\n",
       "      <th></th>\n",
       "      <th></th>\n",
       "      <th></th>\n",
       "      <th></th>\n",
       "      <th></th>\n",
       "      <th></th>\n",
       "      <th></th>\n",
       "      <th></th>\n",
       "      <th></th>\n",
       "      <th></th>\n",
       "      <th></th>\n",
       "      <th></th>\n",
       "      <th></th>\n",
       "      <th></th>\n",
       "      <th></th>\n",
       "      <th></th>\n",
       "      <th></th>\n",
       "      <th></th>\n",
       "      <th></th>\n",
       "      <th></th>\n",
       "      <th></th>\n",
       "    </tr>\n",
       "  </thead>\n",
       "  <tbody>\n",
       "    <tr>\n",
       "      <th>1325376000</th>\n",
       "      <td>0.01</td>\n",
       "      <td>37.0</td>\n",
       "      <td>15.05</td>\n",
       "      <td>8.59</td>\n",
       "      <td>38755.59</td>\n",
       "      <td>16.75</td>\n",
       "      <td>4.41</td>\n",
       "      <td>8.56</td>\n",
       "      <td>7701</td>\n",
       "      <td>4523</td>\n",
       "      <td>...</td>\n",
       "      <td>NaN</td>\n",
       "      <td>NaN</td>\n",
       "      <td>NaN</td>\n",
       "      <td>1106397</td>\n",
       "      <td>3052</td>\n",
       "      <td>303512.40</td>\n",
       "      <td>878045.0</td>\n",
       "      <td>41639000.00</td>\n",
       "      <td>559551.44</td>\n",
       "      <td>5.20</td>\n",
       "    </tr>\n",
       "    <tr>\n",
       "      <th>1325462400</th>\n",
       "      <td>0.01</td>\n",
       "      <td>34.0</td>\n",
       "      <td>15.56</td>\n",
       "      <td>8.76</td>\n",
       "      <td>41826.73</td>\n",
       "      <td>28.63</td>\n",
       "      <td>7.35</td>\n",
       "      <td>7.20</td>\n",
       "      <td>9669</td>\n",
       "      <td>5809</td>\n",
       "      <td>...</td>\n",
       "      <td>NaN</td>\n",
       "      <td>NaN</td>\n",
       "      <td>NaN</td>\n",
       "      <td>1106198</td>\n",
       "      <td>4239</td>\n",
       "      <td>295186.11</td>\n",
       "      <td>568334.0</td>\n",
       "      <td>44082248.49</td>\n",
       "      <td>362565.25</td>\n",
       "      <td>5.49</td>\n",
       "    </tr>\n",
       "    <tr>\n",
       "      <th>1325548800</th>\n",
       "      <td>0.01</td>\n",
       "      <td>39.0</td>\n",
       "      <td>13.61</td>\n",
       "      <td>9.34</td>\n",
       "      <td>42875.44</td>\n",
       "      <td>30.59</td>\n",
       "      <td>9.59</td>\n",
       "      <td>7.73</td>\n",
       "      <td>9207</td>\n",
       "      <td>5544</td>\n",
       "      <td>...</td>\n",
       "      <td>NaN</td>\n",
       "      <td>NaN</td>\n",
       "      <td>NaN</td>\n",
       "      <td>1104959</td>\n",
       "      <td>3966</td>\n",
       "      <td>244250.93</td>\n",
       "      <td>446936.0</td>\n",
       "      <td>42442728.00</td>\n",
       "      <td>624696.97</td>\n",
       "      <td>5.29</td>\n",
       "    </tr>\n",
       "    <tr>\n",
       "      <th>1325635200</th>\n",
       "      <td>0.01</td>\n",
       "      <td>37.0</td>\n",
       "      <td>13.61</td>\n",
       "      <td>8.87</td>\n",
       "      <td>43246.99</td>\n",
       "      <td>79.71</td>\n",
       "      <td>6.49</td>\n",
       "      <td>7.67</td>\n",
       "      <td>9255</td>\n",
       "      <td>5636</td>\n",
       "      <td>...</td>\n",
       "      <td>NaN</td>\n",
       "      <td>NaN</td>\n",
       "      <td>NaN</td>\n",
       "      <td>1104709</td>\n",
       "      <td>4012</td>\n",
       "      <td>338482.00</td>\n",
       "      <td>665796.0</td>\n",
       "      <td>45023634.67</td>\n",
       "      <td>694588.70</td>\n",
       "      <td>5.60</td>\n",
       "    </tr>\n",
       "    <tr>\n",
       "      <th>1325721600</th>\n",
       "      <td>0.02</td>\n",
       "      <td>45.0</td>\n",
       "      <td>14.11</td>\n",
       "      <td>8.47</td>\n",
       "      <td>47064.64</td>\n",
       "      <td>35.51</td>\n",
       "      <td>3.48</td>\n",
       "      <td>6.80</td>\n",
       "      <td>11542</td>\n",
       "      <td>6917</td>\n",
       "      <td>...</td>\n",
       "      <td>NaN</td>\n",
       "      <td>NaN</td>\n",
       "      <td>NaN</td>\n",
       "      <td>1104533</td>\n",
       "      <td>5125</td>\n",
       "      <td>673601.09</td>\n",
       "      <td>1350623.0</td>\n",
       "      <td>51436761.75</td>\n",
       "      <td>1145784.67</td>\n",
       "      <td>6.39</td>\n",
       "    </tr>\n",
       "  </tbody>\n",
       "</table>\n",
       "<p>5 rows × 21 columns</p>\n",
       "</div>"
      ],
      "text/plain": [
       "            avg-block-size  n-transactions-per-block  \\\n",
       "x                                                      \n",
       "1325376000            0.01                      37.0   \n",
       "1325462400            0.01                      34.0   \n",
       "1325548800            0.01                      39.0   \n",
       "1325635200            0.01                      37.0   \n",
       "1325721600            0.02                      45.0   \n",
       "\n",
       "            median-confirmation-time  hash-rate  miners-revenue  \\\n",
       "x                                                                 \n",
       "1325376000                     15.05       8.59        38755.59   \n",
       "1325462400                     15.56       8.76        41826.73   \n",
       "1325548800                     13.61       9.34        42875.44   \n",
       "1325635200                     13.61       8.87        43246.99   \n",
       "1325721600                     14.11       8.47        47064.64   \n",
       "\n",
       "            transaction-fees-usd  cost-per-transaction-percent  \\\n",
       "x                                                                \n",
       "1325376000                 16.75                          4.41   \n",
       "1325462400                 28.63                          7.35   \n",
       "1325548800                 30.59                          9.59   \n",
       "1325635200                 79.71                          6.49   \n",
       "1325721600                 35.51                          3.48   \n",
       "\n",
       "            cost-per-transaction  n-unique-addresses  n-transactions  \\\n",
       "x                                                                      \n",
       "1325376000                  8.56                7701            4523   \n",
       "1325462400                  7.20                9669            5809   \n",
       "1325548800                  7.73                9207            5544   \n",
       "1325635200                  7.67                9255            5636   \n",
       "1325721600                  6.80               11542            6917   \n",
       "\n",
       "                ...       mempool-count  mempool-growth  mempool-size  \\\n",
       "x               ...                                                     \n",
       "1325376000      ...                 NaN             NaN           NaN   \n",
       "1325462400      ...                 NaN             NaN           NaN   \n",
       "1325548800      ...                 NaN             NaN           NaN   \n",
       "1325635200      ...                 NaN             NaN           NaN   \n",
       "1325721600      ...                 NaN             NaN           NaN   \n",
       "\n",
       "            utxo-count  n-transactions-excluding-popular  output-volume  \\\n",
       "x                                                                         \n",
       "1325376000     1106397                              3052      303512.40   \n",
       "1325462400     1106198                              4239      295186.11   \n",
       "1325548800     1104959                              3966      244250.93   \n",
       "1325635200     1104709                              4012      338482.00   \n",
       "1325721600     1104533                              5125      673601.09   \n",
       "\n",
       "            estimated-transaction-volume-usd   market-cap  trade-volume  \\\n",
       "x                                                                         \n",
       "1325376000                          878045.0  41639000.00     559551.44   \n",
       "1325462400                          568334.0  44082248.49     362565.25   \n",
       "1325548800                          446936.0  42442728.00     624696.97   \n",
       "1325635200                          665796.0  45023634.67     694588.70   \n",
       "1325721600                         1350623.0  51436761.75    1145784.67   \n",
       "\n",
       "            market-price  \n",
       "x                         \n",
       "1325376000          5.20  \n",
       "1325462400          5.49  \n",
       "1325548800          5.29  \n",
       "1325635200          5.60  \n",
       "1325721600          6.39  \n",
       "\n",
       "[5 rows x 21 columns]"
      ]
     },
     "execution_count": 48,
     "metadata": {},
     "output_type": "execute_result"
    }
   ],
   "source": [
    "totalled_df.head()"
   ]
  },
  {
   "cell_type": "code",
   "execution_count": 46,
   "metadata": {
    "collapsed": true
   },
   "outputs": [],
   "source": [
    "import matplotlib.pyplot as plt\n",
    "import matplotlib\n",
    "matplotlib.style.use('ggplot')\n",
    "\n",
    "plt.figure(); totalled_df.plot();"
   ]
  },
  {
   "cell_type": "code",
   "execution_count": 47,
   "metadata": {},
   "outputs": [
    {
     "data": {
      "text/plain": [
       "<matplotlib.axes._subplots.AxesSubplot at 0x7fa5847a2a58>"
      ]
     },
     "execution_count": 47,
     "metadata": {},
     "output_type": "execute_result"
    }
   ],
   "source": [
    "# df.plot(x=', y='market-price')\n",
    "\n",
    "totalled_df.plot(x=totalled_df.index, y='market-price')"
   ]
  }
 ],
 "metadata": {
  "kernelspec": {
   "display_name": "Python 3",
   "language": "python",
   "name": "python3"
  },
  "language_info": {
   "codemirror_mode": {
    "name": "ipython",
    "version": 3
   },
   "file_extension": ".py",
   "mimetype": "text/x-python",
   "name": "python",
   "nbconvert_exporter": "python",
   "pygments_lexer": "ipython3",
   "version": "3.5.2"
  }
 },
 "nbformat": 4,
 "nbformat_minor": 2
}
