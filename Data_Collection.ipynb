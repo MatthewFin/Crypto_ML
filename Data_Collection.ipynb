{
 "cells": [
  {
   "cell_type": "code",
   "execution_count": 1,
   "metadata": {
    "collapsed": true
   },
   "outputs": [],
   "source": [
    "timespan = '66months'\n",
    "rollingAverage = '1hour'\n",
    "start = '2012-04-00'\n",
    "sampled = 'false'\n",
    "\n",
    "global totalled_df\n",
    "global url\n",
    "url = 'https://api.blockchain.info/charts/'"
   ]
  },
  {
   "cell_type": "code",
   "execution_count": 2,
   "metadata": {
    "collapsed": true
   },
   "outputs": [],
   "source": [
    "def create_df(url, chartName):\n",
    "    url += chartName\n",
    "    params = dict(\n",
    "        timespan = timespan,\n",
    "        rollingAverage = rollingAverage,\n",
    "        start = start, \n",
    "        sampled = sampled,\n",
    "    )\n",
    "    resp = requests.get(url=url, params=params)\n",
    "    data = json.loads(resp.text)\n",
    "#     print(json.dumps(data, indent=4, sort_keys=True))\n",
    "    data = data['values']\n",
    "    df = pd.DataFrame(data)\n",
    "    df.set_index('x', inplace=True)\n",
    "    df.columns =[chartName]\n",
    "    return df"
   ]
  },
  {
   "cell_type": "code",
   "execution_count": 3,
   "metadata": {
    "collapsed": true
   },
   "outputs": [],
   "source": [
    "def concat_df(all_df, new_df):\n",
    "    all_df = pd.concat([all_df, new_df], axis=1, join_axes=[all_df.index])\n",
    "#     totalled_df.T.drop_duplicates().T    \n",
    "    all_df = all_df.loc[:,~all_df.columns.duplicated()]\n",
    "    return all_df"
   ]
  },
  {
   "cell_type": "markdown",
   "metadata": {},
   "source": [
    "***MARKET INFO***"
   ]
  },
  {
   "cell_type": "code",
   "execution_count": 4,
   "metadata": {
    "collapsed": true
   },
   "outputs": [],
   "source": [
    "import json, requests\n",
    "import pandas as pd\n",
    "\n",
    "#1 BTC MARKET PRICE\n",
    "df = create_df(url, 'market-price')\n",
    "\n",
    "totalled_df = df"
   ]
  },
  {
   "cell_type": "code",
   "execution_count": 5,
   "metadata": {
    "collapsed": true
   },
   "outputs": [],
   "source": [
    "#2 TRADE VOLUME\n",
    "df = create_df(url, 'trade-volume')\n",
    "\n",
    "totalled_df = concat_df(totalled_df, df)"
   ]
  },
  {
   "cell_type": "markdown",
   "metadata": {},
   "source": [
    "***MINING INFORMATION***"
   ]
  },
  {
   "cell_type": "code",
   "execution_count": 6,
   "metadata": {
    "collapsed": true
   },
   "outputs": [],
   "source": [
    "#3 MEDIAN TRANSACTION TIME\n",
    "df = create_df(url, 'median-confirmation-time')\n",
    "\n",
    "totalled_df = concat_df(totalled_df, df)"
   ]
  },
  {
   "cell_type": "code",
   "execution_count": 7,
   "metadata": {
    "collapsed": true
   },
   "outputs": [],
   "source": [
    "#4 HASH RATE\n",
    "df = create_df(url, 'hash-rate')\n",
    "\n",
    "totalled_df = concat_df(totalled_df, df)"
   ]
  },
  {
   "cell_type": "code",
   "execution_count": 8,
   "metadata": {
    "collapsed": true
   },
   "outputs": [],
   "source": [
    "#5 TOTAL TRANSACTION FEES\n",
    "df = create_df(url, 'transaction-fees-usd')\n",
    "\n",
    "totalled_df = concat_df(totalled_df, df)"
   ]
  },
  {
   "cell_type": "markdown",
   "metadata": {},
   "source": [
    "***NETWORK INFORMATION***"
   ]
  },
  {
   "cell_type": "code",
   "execution_count": 9,
   "metadata": {
    "collapsed": true
   },
   "outputs": [],
   "source": [
    "#6 NUMBER OF UNIQUE ADDRESSES\n",
    "df = create_df(url, 'n-unique-addresses')\n",
    "\n",
    "totalled_df = concat_df(totalled_df, df)"
   ]
  },
  {
   "cell_type": "code",
   "execution_count": 10,
   "metadata": {
    "collapsed": true
   },
   "outputs": [],
   "source": [
    "#7 TOTAL NUMBER OF TRANSACTIONS PER DAY\n",
    "df = create_df(url, 'n-transactions')\n",
    "\n",
    "totalled_df = concat_df(totalled_df, df)"
   ]
  },
  {
   "cell_type": "code",
   "execution_count": 11,
   "metadata": {
    "collapsed": true
   },
   "outputs": [],
   "source": [
    "#8 NUMBER OF TRANSACTIONS WAITING TO BE INCLUDED (MEMPOOL TRANSACTION COUNT)\n",
    "df = create_df(url, 'mempool-count')\n",
    "\n",
    "totalled_df = concat_df(totalled_df, df)"
   ]
  },
  {
   "cell_type": "code",
   "execution_count": 12,
   "metadata": {
    "collapsed": true
   },
   "outputs": [],
   "source": [
    "#9 TRANSACTION VOLUME (BTC) EXCLUDING TOP 100 POPULAR ADDRESSES\n",
    "df = create_df(url, 'n-transactions-excluding-popular')\n",
    "\n",
    "totalled_df = concat_df(totalled_df, df)"
   ]
  },
  {
   "cell_type": "code",
   "execution_count": 13,
   "metadata": {},
   "outputs": [
    {
     "data": {
      "text/html": [
       "<div>\n",
       "<style>\n",
       "    .dataframe thead tr:only-child th {\n",
       "        text-align: right;\n",
       "    }\n",
       "\n",
       "    .dataframe thead th {\n",
       "        text-align: left;\n",
       "    }\n",
       "\n",
       "    .dataframe tbody tr th {\n",
       "        vertical-align: top;\n",
       "    }\n",
       "</style>\n",
       "<table border=\"1\" class=\"dataframe\">\n",
       "  <thead>\n",
       "    <tr style=\"text-align: right;\">\n",
       "      <th></th>\n",
       "      <th>market-price</th>\n",
       "      <th>trade-volume</th>\n",
       "      <th>median-confirmation-time</th>\n",
       "      <th>hash-rate</th>\n",
       "      <th>transaction-fees-usd</th>\n",
       "      <th>n-unique-addresses</th>\n",
       "      <th>n-transactions</th>\n",
       "      <th>mempool-count</th>\n",
       "      <th>n-transactions-excluding-popular</th>\n",
       "    </tr>\n",
       "    <tr>\n",
       "      <th>x</th>\n",
       "      <th></th>\n",
       "      <th></th>\n",
       "      <th></th>\n",
       "      <th></th>\n",
       "      <th></th>\n",
       "      <th></th>\n",
       "      <th></th>\n",
       "      <th></th>\n",
       "      <th></th>\n",
       "    </tr>\n",
       "  </thead>\n",
       "  <tbody>\n",
       "    <tr>\n",
       "      <th>1333238400</th>\n",
       "      <td>4.92</td>\n",
       "      <td>182041.75</td>\n",
       "      <td>8.74</td>\n",
       "      <td>12.12</td>\n",
       "      <td>21.40</td>\n",
       "      <td>9586</td>\n",
       "      <td>5619</td>\n",
       "      <td>NaN</td>\n",
       "      <td>4221</td>\n",
       "    </tr>\n",
       "    <tr>\n",
       "      <th>1333324800</th>\n",
       "      <td>5.08</td>\n",
       "      <td>429855.97</td>\n",
       "      <td>11.46</td>\n",
       "      <td>10.26</td>\n",
       "      <td>21.03</td>\n",
       "      <td>10766</td>\n",
       "      <td>6086</td>\n",
       "      <td>NaN</td>\n",
       "      <td>4676</td>\n",
       "    </tr>\n",
       "    <tr>\n",
       "      <th>1333411200</th>\n",
       "      <td>5.00</td>\n",
       "      <td>394194.22</td>\n",
       "      <td>10.03</td>\n",
       "      <td>10.34</td>\n",
       "      <td>23.17</td>\n",
       "      <td>13073</td>\n",
       "      <td>7539</td>\n",
       "      <td>NaN</td>\n",
       "      <td>5962</td>\n",
       "    </tr>\n",
       "    <tr>\n",
       "      <th>1333497600</th>\n",
       "      <td>4.96</td>\n",
       "      <td>281521.13</td>\n",
       "      <td>10.15</td>\n",
       "      <td>11.40</td>\n",
       "      <td>19.64</td>\n",
       "      <td>12774</td>\n",
       "      <td>7479</td>\n",
       "      <td>NaN</td>\n",
       "      <td>5980</td>\n",
       "    </tr>\n",
       "    <tr>\n",
       "      <th>1333584000</th>\n",
       "      <td>4.94</td>\n",
       "      <td>187559.84</td>\n",
       "      <td>10.27</td>\n",
       "      <td>9.62</td>\n",
       "      <td>30.71</td>\n",
       "      <td>11946</td>\n",
       "      <td>6977</td>\n",
       "      <td>NaN</td>\n",
       "      <td>5552</td>\n",
       "    </tr>\n",
       "  </tbody>\n",
       "</table>\n",
       "</div>"
      ],
      "text/plain": [
       "            market-price  trade-volume  median-confirmation-time  hash-rate  \\\n",
       "x                                                                             \n",
       "1333238400          4.92     182041.75                      8.74      12.12   \n",
       "1333324800          5.08     429855.97                     11.46      10.26   \n",
       "1333411200          5.00     394194.22                     10.03      10.34   \n",
       "1333497600          4.96     281521.13                     10.15      11.40   \n",
       "1333584000          4.94     187559.84                     10.27       9.62   \n",
       "\n",
       "            transaction-fees-usd  n-unique-addresses  n-transactions  \\\n",
       "x                                                                      \n",
       "1333238400                 21.40                9586            5619   \n",
       "1333324800                 21.03               10766            6086   \n",
       "1333411200                 23.17               13073            7539   \n",
       "1333497600                 19.64               12774            7479   \n",
       "1333584000                 30.71               11946            6977   \n",
       "\n",
       "            mempool-count  n-transactions-excluding-popular  \n",
       "x                                                            \n",
       "1333238400            NaN                              4221  \n",
       "1333324800            NaN                              4676  \n",
       "1333411200            NaN                              5962  \n",
       "1333497600            NaN                              5980  \n",
       "1333584000            NaN                              5552  "
      ]
     },
     "execution_count": 13,
     "metadata": {},
     "output_type": "execute_result"
    }
   ],
   "source": [
    "totalled_df.head()"
   ]
  },
  {
   "cell_type": "code",
   "execution_count": 14,
   "metadata": {
    "collapsed": true
   },
   "outputs": [],
   "source": [
    "totalled_df.to_csv('totalled_df.csv', sep=',')"
   ]
  }
 ],
 "metadata": {
  "kernelspec": {
   "display_name": "Python 3",
   "language": "python",
   "name": "python3"
  },
  "language_info": {
   "codemirror_mode": {
    "name": "ipython",
    "version": 3
   },
   "file_extension": ".py",
   "mimetype": "text/x-python",
   "name": "python",
   "nbconvert_exporter": "python",
   "pygments_lexer": "ipython3",
   "version": "3.6.3"
  }
 },
 "nbformat": 4,
 "nbformat_minor": 2
}
